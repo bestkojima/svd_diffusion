{
 "cells": [
  {
   "cell_type": "code",
   "execution_count": 2,
   "metadata": {},
   "outputs": [
    {
     "name": "stdout",
     "output_type": "stream",
     "text": [
      "Defaulting to user installation because normal site-packages is not writeable\n",
      "Requirement already satisfied: tqdm in /home/dr/.local/lib/python3.10/site-packages (4.66.5)\n"
     ]
    }
   ],
   "source": [
    "! pip install tqdm\n"
   ]
  },
  {
   "cell_type": "code",
   "execution_count": 5,
   "metadata": {},
   "outputs": [
    {
     "name": "stderr",
     "output_type": "stream",
     "text": [
      "Processing:  15%|█▌        | 15/100 [00:15<01:25,  1.00s/iteration, Current Iteration=15]"
     ]
    },
    {
     "ename": "KeyboardInterrupt",
     "evalue": "",
     "output_type": "error",
     "traceback": [
      "\u001b[0;31m---------------------------------------------------------------------------\u001b[0m",
      "\u001b[0;31mKeyboardInterrupt\u001b[0m                         Traceback (most recent call last)",
      "Cell \u001b[0;32mIn[5], line 16\u001b[0m\n\u001b[1;32m     13\u001b[0m \u001b[38;5;66;03m# 模拟一个 while 循环\u001b[39;00m\n\u001b[1;32m     14\u001b[0m \u001b[38;5;28;01mwhile\u001b[39;00m counter \u001b[38;5;241m<\u001b[39m total_iterations:\n\u001b[1;32m     15\u001b[0m     \u001b[38;5;66;03m# 模拟一些计算或操作\u001b[39;00m\n\u001b[0;32m---> 16\u001b[0m     \u001b[43mtime\u001b[49m\u001b[38;5;241;43m.\u001b[39;49m\u001b[43msleep\u001b[49m\u001b[43m(\u001b[49m\u001b[38;5;241;43m1\u001b[39;49m\u001b[43m)\u001b[49m  \u001b[38;5;66;03m# 模拟耗时操作\u001b[39;00m\n\u001b[1;32m     18\u001b[0m     \u001b[38;5;66;03m# 更新计数器\u001b[39;00m\n\u001b[1;32m     19\u001b[0m     counter \u001b[38;5;241m+\u001b[39m\u001b[38;5;241m=\u001b[39m \u001b[38;5;241m1\u001b[39m\n",
      "\u001b[0;31mKeyboardInterrupt\u001b[0m: "
     ]
    }
   ],
   "source": [
    "from tqdm import tqdm\n",
    "import time\n",
    "\n",
    "# 假设我们有一个总迭代次数\n",
    "total_iterations = 100\n",
    "\n",
    "# 初始化进度条\n",
    "pbar = tqdm(total=total_iterations, desc=\"Processing\", unit=\"iteration\")\n",
    "\n",
    "# 初始化计数器\n",
    "counter = 0\n",
    "\n",
    "# 模拟一个 while 循环\n",
    "while counter < total_iterations:\n",
    "    # 模拟一些计算或操作\n",
    "    time.sleep(1)  # 模拟耗时操作\n",
    "    \n",
    "    # 更新计数器\n",
    "    counter += 1\n",
    "    \n",
    "    # 更新进度条\n",
    "    pbar.update(1)\n",
    "    pbar.set_postfix({\"Current Iteration\": counter})\n",
    "\n",
    "# 关闭进度条\n",
    "pbar.close()"
   ]
  }
 ],
 "metadata": {
  "kernelspec": {
   "display_name": "Python 3",
   "language": "python",
   "name": "python3"
  },
  "language_info": {
   "codemirror_mode": {
    "name": "ipython",
    "version": 3
   },
   "file_extension": ".py",
   "mimetype": "text/x-python",
   "name": "python",
   "nbconvert_exporter": "python",
   "pygments_lexer": "ipython3",
   "version": "3.10.12"
  }
 },
 "nbformat": 4,
 "nbformat_minor": 2
}
