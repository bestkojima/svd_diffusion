{
 "cells": [
  {
   "cell_type": "code",
   "execution_count": 2,
   "metadata": {},
   "outputs": [
    {
     "name": "stdout",
     "output_type": "stream",
     "text": [
      "Defaulting to user installation because normal site-packages is not writeable\n",
      "Requirement already satisfied: tqdm in /home/dr/.local/lib/python3.10/site-packages (4.66.5)\n"
     ]
    }
   ],
   "source": [
    "! pip install tqdm\n"
   ]
  },
  {
   "cell_type": "code",
   "execution_count": 5,
   "metadata": {},
   "outputs": [
    {
     "name": "stderr",
     "output_type": "stream",
     "text": [
      "Processing:  15%|█▌        | 15/100 [00:15<01:25,  1.00s/iteration, Current Iteration=15]"
     ]
    },
    {
     "ename": "KeyboardInterrupt",
     "evalue": "",
     "output_type": "error",
     "traceback": [
      "\u001b[0;31m---------------------------------------------------------------------------\u001b[0m",
      "\u001b[0;31mKeyboardInterrupt\u001b[0m                         Traceback (most recent call last)",
      "Cell \u001b[0;32mIn[5], line 16\u001b[0m\n\u001b[1;32m     13\u001b[0m \u001b[38;5;66;03m# 模拟一个 while 循环\u001b[39;00m\n\u001b[1;32m     14\u001b[0m \u001b[38;5;28;01mwhile\u001b[39;00m counter \u001b[38;5;241m<\u001b[39m total_iterations:\n\u001b[1;32m     15\u001b[0m     \u001b[38;5;66;03m# 模拟一些计算或操作\u001b[39;00m\n\u001b[0;32m---> 16\u001b[0m     \u001b[43mtime\u001b[49m\u001b[38;5;241;43m.\u001b[39;49m\u001b[43msleep\u001b[49m\u001b[43m(\u001b[49m\u001b[38;5;241;43m1\u001b[39;49m\u001b[43m)\u001b[49m  \u001b[38;5;66;03m# 模拟耗时操作\u001b[39;00m\n\u001b[1;32m     18\u001b[0m     \u001b[38;5;66;03m# 更新计数器\u001b[39;00m\n\u001b[1;32m     19\u001b[0m     counter \u001b[38;5;241m+\u001b[39m\u001b[38;5;241m=\u001b[39m \u001b[38;5;241m1\u001b[39m\n",
      "\u001b[0;31mKeyboardInterrupt\u001b[0m: "
     ]
    }
   ],
   "source": [
    "from tqdm import tqdm\n",
    "import time\n",
    "\n",
    "# 假设我们有一个总迭代次数\n",
    "total_iterations = 100\n",
    "\n",
    "# 初始化进度条\n",
    "pbar = tqdm(total=total_iterations, desc=\"Processing\", unit=\"iteration\")\n",
    "\n",
    "# 初始化计数器\n",
    "counter = 0\n",
    "\n",
    "# 模拟一个 while 循环\n",
    "while counter < total_iterations:\n",
    "    # 模拟一些计算或操作\n",
    "    time.sleep(1)  # 模拟耗时操作\n",
    "    \n",
    "    # 更新计数器\n",
    "    counter += 1\n",
    "    \n",
    "    # 更新进度条\n",
    "    pbar.update(1)\n",
    "    pbar.set_postfix({\"Current Iteration\": counter})\n",
    "\n",
    "# 关闭进度条\n",
    "pbar.close()"
   ]
  },
  {
   "cell_type": "code",
   "execution_count": 63,
   "metadata": {},
   "outputs": [],
   "source": [
    "import torch\n",
    "def svd_batch(matrix,k=None):\n",
    "    U, S, V = torch.svd(matrix)\n",
    "    \n",
    "    \n",
    "    \"soft make\"\n",
    "    a=torch.diag_embed(S)\n",
    "    s_temp=torch.zeros_like(a)\n",
    "    s_temp[:,:,k-1:,k-1:]=a[:,:,k-1:,k-1:]\n",
    "    \n",
    "    # reconstructed_matrix = torch.matmul(torch.matmul(U,torch.diag_embed(S)) , V.transpose(2,3))\n",
    "    \n",
    "    reconstructed_matrix = torch.matmul(torch.matmul(U,s_temp) , V.transpose(2,3))\n",
    "    \n",
    "    return reconstructed_matrix\n",
    "\n",
    "# 当 k=1时 为origin_image\n",
    "def svd_batch_one(matrix,k=None):\n",
    "    U, S, V = torch.svd(matrix)\n",
    "    \n",
    "    \n",
    "    \"soft make\"\n",
    "    a=torch.diag_embed(S)\n",
    "    s_temp=torch.zeros_like(a)\n",
    "    s_temp[:,:,k-1:k,k-1:k]=a[:,:,k-1:k,k-1:k]\n",
    "    \n",
    "    # reconstructed_matrix = torch.matmul(torch.matmul(U,torch.diag_embed(S)) , V.transpose(2,3))\n",
    "    \n",
    "    reconstructed_matrix = torch.matmul(torch.matmul(U,s_temp) , V.transpose(2,3))\n",
    "    \n",
    "    return reconstructed_matrix\n"
   ]
  },
  {
   "cell_type": "code",
   "execution_count": 13,
   "metadata": {},
   "outputs": [
    {
     "data": {
      "text/plain": [
       "[1]"
      ]
     },
     "execution_count": 13,
     "metadata": {},
     "output_type": "execute_result"
    }
   ],
   "source": [
    "c=[1,2]\n",
    "c[0:1]"
   ]
  },
  {
   "cell_type": "code",
   "execution_count": 88,
   "metadata": {},
   "outputs": [
    {
     "name": "stdout",
     "output_type": "stream",
     "text": [
      "1.1699902114845062e-12\n"
     ]
    }
   ],
   "source": [
    "matrix = torch.randn(2,3,128,128)\n",
    "c=svd_batch(matrix,1)\n",
    "\n",
    "from torch.nn import functional as F\n",
    "z=F.mse_loss(c,matrix).item()\n",
    "print(z)"
   ]
  },
  {
   "cell_type": "code",
   "execution_count": 101,
   "metadata": {},
   "outputs": [
    {
     "data": {
      "image/png": "[encoded data removed]",
      "text/plain": [
       "<Figure size 640x480 with 1 Axes>"
      ]
     },
     "metadata": {},
     "output_type": "display_data"
    }
   ],
   "source": [
    "z_values = []\n",
    "import torch\n",
    "from torch.nn import functional as F\n",
    "import matplotlib.pyplot as plt\n",
    "# 使用 for 循环记录 z 的值\n",
    "for k in range(1, 129):\n",
    "    c = svd_batch(matrix, k)\n",
    "    z = F.mse_loss(c, matrix)\n",
    "    \n",
    "    z_values.append(z.item())\n",
    "\n",
    "#使用 matplotlib 显示 z 的值\n",
    "plt.plot(range(1, 129), z_values)\n",
    "plt.xlabel('k')\n",
    "plt.ylabel('MSE Loss')\n",
    "plt.title('MSE Loss vs. k')\n",
    "plt.show()\n"
   ]
  },
  {
   "cell_type": "code",
   "execution_count": 98,
   "metadata": {},
   "outputs": [
    {
     "ename": "IndexError",
     "evalue": "list index out of range",
     "output_type": "error",
     "traceback": [
      "\u001b[0;31m---------------------------------------------------------------------------\u001b[0m",
      "\u001b[0;31mIndexError\u001b[0m                                Traceback (most recent call last)",
      "Cell \u001b[0;32mIn[98], line 1\u001b[0m\n\u001b[0;32m----> 1\u001b[0m \u001b[43mz_values\u001b[49m\u001b[43m[\u001b[49m\u001b[38;5;241;43m0\u001b[39;49m\u001b[43m]\u001b[49m\n",
      "\u001b[0;31mIndexError\u001b[0m: list index out of range"
     ]
    }
   ],
   "source": [
    "z_values[0]"
   ]
  },
  {
   "cell_type": "code",
   "execution_count": 155,
   "metadata": {},
   "outputs": [
    {
     "name": "stdout",
     "output_type": "stream",
     "text": [
      "U shape: torch.Size([3, 1, 128, 128])\n",
      "S shape: torch.Size([3, 1, 128])\n",
      "V shape: torch.Size([3, 1, 128, 128])\n",
      "a shape: torch.Size([3, 1, 128, 128])\n",
      "s_temp shape before assignment: torch.Size([3, 1, 128, 128])\n",
      "s_temp shape after assignment: torch.Size([3, 1, 128, 128])\n",
      "reconstructed_matrix shape: torch.Size([3, 1, 128, 128])\n"
     ]
    },
    {
     "data": {
      "text/plain": [
       "tensor([[[[-0.2694,  0.1994,  0.1258,  ..., -0.0782, -0.0660,  0.0932],\n",
       "          [-0.6829,  0.5055,  0.3190,  ..., -0.1983, -0.1673,  0.2363],\n",
       "          [-0.0557,  0.0412,  0.0260,  ..., -0.0162, -0.0136,  0.0193],\n",
       "          ...,\n",
       "          [-0.0442,  0.0327,  0.0207,  ..., -0.0128, -0.0108,  0.0153],\n",
       "          [-0.0252,  0.0186,  0.0118,  ..., -0.0073, -0.0062,  0.0087],\n",
       "          [ 0.3680, -0.2724, -0.1719,  ...,  0.1069,  0.0902, -0.1273]]],\n",
       "\n",
       "\n",
       "        [[[ 0.0916, -0.1479,  0.0493,  ..., -0.1480,  0.2324,  0.2790],\n",
       "          [ 0.1090, -0.1759,  0.0587,  ..., -0.1761,  0.2765,  0.3319],\n",
       "          [-0.0046,  0.0074, -0.0025,  ...,  0.0074, -0.0116, -0.0139],\n",
       "          ...,\n",
       "          [ 0.0130, -0.0210,  0.0070,  ..., -0.0210,  0.0329,  0.0395],\n",
       "          [-0.1961,  0.3166, -0.1056,  ...,  0.3169, -0.4976, -0.5974],\n",
       "          [-0.0394,  0.0636, -0.0212,  ...,  0.0636, -0.0999, -0.1200]]],\n",
       "\n",
       "\n",
       "        [[[-0.0033,  0.0117,  0.0153,  ...,  0.0053,  0.0020, -0.0168],\n",
       "          [ 0.0476, -0.1674, -0.2186,  ..., -0.0763, -0.0292,  0.2394],\n",
       "          [-0.0263,  0.0924,  0.1206,  ...,  0.0421,  0.0161, -0.1321],\n",
       "          ...,\n",
       "          [ 0.0508, -0.1786, -0.2332,  ..., -0.0815, -0.0312,  0.2555],\n",
       "          [-0.0047,  0.0165,  0.0215,  ...,  0.0075,  0.0029, -0.0236],\n",
       "          [-0.0073,  0.0255,  0.0333,  ...,  0.0116,  0.0044, -0.0365]]]])"
      ]
     },
     "execution_count": 155,
     "metadata": {},
     "output_type": "execute_result"
    }
   ],
   "source": [
    "\n",
    "def svd_batch_accmulate(matrix,k=0):\n",
    "    U, S, V = torch.svd(matrix)\n",
    "    \n",
    "    \n",
    "    \"\"\"\n",
    "    func_desc:\n",
    "        累加k对应的recon\n",
    "        svd_batch_accmulate(martix,k=0) 返回原图 \n",
    "        k=2 return sigma[k:]\n",
    "    \"\"\"\n",
    "    a=torch.diag_embed(S)\n",
    "    s_temp=torch.zeros_like(a)\n",
    "    s_temp[:,:,k:,k:]=a[:,:,k:,k:]\n",
    "    # [k,-1]\n",
    "    # reconstructed_matrix = torch.matmul(torch.matmul(U,torch.diag_embed(S)) , V.transpose(2,3))\n",
    "    \n",
    "    reconstructed_matrix = torch.matmul(torch.matmul(U,s_temp) , V.transpose(2,3))\n",
    "    \n",
    "    return reconstructed_matrix\n",
    "# 当 k=0时 为origin_image\n",
    "\n",
    "def svd_batch_one(matrix,k=None):\n",
    "    U, S, V = torch.svd(matrix)\n",
    "    \n",
    "    \n",
    "    \"\"\"\n",
    "    func_desc:\n",
    "        只添加单个k对应的accmulate\n",
    "    \"\"\"\n",
    "    a=torch.diag_embed(S)\n",
    "    s_temp=torch.zeros_like(a)\n",
    "    s_temp[:,:,k:k+1,k:k+1]=a[:,:,k:k+1,k:k+1]\n",
    "    # one by one\n",
    "    # reconstructed_matrix = torch.matmul(torch.matmul(U,torch.diag_embed(S)) , V.transpose(2,3))\n",
    "    \n",
    "    reconstructed_matrix = torch.matmul(torch.matmul(U,s_temp) , V.transpose(2,3))\n",
    "    \n",
    "    return reconstructed_matrix\n",
    "\n",
    "\n",
    "\n",
    "\n",
    "\n",
    "\n",
    "\n",
    "t=3\n",
    "matrix=torch.randn(3,1,128,128)\n",
    "svd_batch_one(matrix,2)\n",
    "    \n",
    "    \n",
    "    \n",
    "# z_values = []\n",
    "# c=torch.zeros_like(matrix)\n",
    "# # 使用 for 循环记录 z 的值\n",
    "# for k in reversed(range(0, 128)):\n",
    "#     c += svd_batch_one(matrix, k)\n",
    "#     z = F.mse_loss(c, matrix)\n",
    "    \n",
    "#     z_values.append(z.item())\n",
    "\n",
    "# #使用 matplotlib 显示 z 的值\n",
    "# plt.plot(z_values[::-1])\n",
    "# plt.xlabel('k')\n",
    "# plt.ylabel('MSE Loss')\n",
    "# plt.title('MSE Loss vs. k')\n",
    "# plt.show()"
   ]
  },
  {
   "cell_type": "code",
   "execution_count": 196,
   "metadata": {},
   "outputs": [],
   "source": [
    "def svd_batch_one(matrix,k=None):\n",
    "    U, S, V = torch.svd(matrix)\n",
    "    \n",
    "    \n",
    "    \"\"\"\n",
    "    Perform SVD reconstruction for each batch element with a specified k value.\n",
    "    \n",
    "    Parameters:\n",
    "    - matrix: Input batch matrix of shape (batch_size, m, n).\n",
    "    - k: A list or tensor of k values for each batch element. If None, use all singular values.\n",
    "    \n",
    "    Returns:\n",
    "    - reconstructed_matrix: Reconstructed batch matrix of shape (batch_size, m, n).\n",
    "    \"\"\"\n",
    "    batch_size=matrix.shape[0]\n",
    "    recon=[]\n",
    "    \n",
    "    for i in range(batch_size):\n",
    "        \n",
    "        a=torch.diag_embed(S[i])\n",
    "       \n",
    "        s_temp=torch.zeros_like(a)\n",
    "        s_temp[:,k[i]:k[i]+1,k[i]:k[i]+1]=a[:,k[i]:k[i]+1,k[i]:k[i]+1]\n",
    "        recon.append(torch.matmul(torch.matmul(U[i],s_temp) , V[i].transpose(-1,-2)))\n",
    "        \n",
    "    reconstructed_matrix=torch.stack(recon,0)\n",
    "    print(reconstructed_matrix.shape)\n",
    "    return reconstructed_matrix"
   ]
  },
  {
   "cell_type": "code",
   "execution_count": 211,
   "metadata": {},
   "outputs": [
    {
     "name": "stdout",
     "output_type": "stream",
     "text": [
      "tensor([[[[ 8.5905e-01,  7.5854e-01,  4.6476e-01],\n",
      "          [ 4.5475e-01,  2.9338e-01,  5.3535e-01],\n",
      "          [-4.2001e-01, -3.2040e-01, -3.6222e-01]],\n",
      "\n",
      "         [[-1.2168e-01, -2.4754e-01, -1.2587e-01],\n",
      "          [-7.9917e-01, -1.5011e-01, -4.2725e-01],\n",
      "          [-1.3698e+00, -8.2673e-02, -6.8503e-01]],\n",
      "\n",
      "         [[ 3.9579e-01,  7.4549e-01, -8.7145e-01],\n",
      "          [ 3.2275e-01,  1.9211e-01, -6.0847e-01],\n",
      "          [-7.5488e-02,  7.8274e-02,  1.1204e-01]]],\n",
      "\n",
      "\n",
      "        [[[ 1.5688e-02, -5.6401e-02, -2.0028e-02],\n",
      "          [-3.6989e-02,  1.3298e-01,  4.7222e-02],\n",
      "          [ 2.9565e-02, -1.0629e-01, -3.7744e-02]],\n",
      "\n",
      "         [[ 2.4574e-01, -1.3230e-01,  5.6832e-01],\n",
      "          [-4.0420e-02,  2.1762e-02, -9.3482e-02],\n",
      "          [ 8.3108e-02, -4.4745e-02,  1.9221e-01]],\n",
      "\n",
      "         [[ 9.3491e-02, -2.9519e-02,  4.9530e-02],\n",
      "          [-2.3826e-01,  7.5227e-02, -1.2622e-01],\n",
      "          [ 3.2161e-02, -1.0155e-02,  1.7038e-02]]],\n",
      "\n",
      "\n",
      "        [[[-1.9092e+00, -2.4028e-01,  7.0480e-01],\n",
      "          [ 1.1406e+00, -6.5052e-01, -1.1002e+00],\n",
      "          [-2.6057e-02,  1.0352e+00,  1.3875e+00]],\n",
      "\n",
      "         [[ 1.3832e+00,  1.1972e+00, -1.8938e+00],\n",
      "          [ 9.3715e-01, -2.1815e+00, -2.0396e-01],\n",
      "          [ 5.9733e-02, -9.8214e-01, -1.8142e+00]],\n",
      "\n",
      "         [[ 6.8615e-01, -5.8374e-01,  1.1177e+00],\n",
      "          [-5.0299e-01,  1.0533e-01,  2.1179e-03],\n",
      "          [ 3.2159e-01, -5.1748e-01,  1.1184e+00]]]])\n"
     ]
    }
   ],
   "source": [
    "def svd_batch_accmulate(matrix, k=None):\n",
    "    U, S, V = torch.svd(matrix)\n",
    "    \n",
    "    \"\"\"\n",
    "    func_desc:\n",
    "        累加k对应的recon\n",
    "        svd_batch_accmulate(matrix, k=0) 返回原图 \n",
    "        k=2 return sigma[k:]\n",
    "    \"\"\"\n",
    "    batch_size = matrix.shape[0]\n",
    "    recon = []\n",
    "    \n",
    "    for i in range(batch_size):\n",
    "        a = torch.diag_embed(S[i])\n",
    "        s_temp = torch.zeros_like(a)\n",
    "        \n",
    "        # 如果 k 是 None，则使用所有奇异值\n",
    "        if k is None:\n",
    "            s_temp = a\n",
    "        else:\n",
    "            s_temp[:, k[i]:, k[i]:] = a[:, k[i]:, k[i]:]\n",
    "        \n",
    "        recon.append(torch.matmul(torch.matmul(U[i], s_temp), V[i].transpose(-1, -2)))\n",
    "    \n",
    "    reconstructed_matrix = torch.stack(recon, 0)\n",
    "    return reconstructed_matrix\n",
    "\n",
    "# 示例\n",
    "matrix = torch.randn(3,3, 3, 3)\n",
    "k = torch.randint(0, 3, (3,)).long()  # 每个批次中不同的 k 值\n",
    "\n",
    "reconstructed_matrix = svd_batch_accmulate(matrix, k)\n",
    "print(reconstructed_matrix)"
   ]
  },
  {
   "cell_type": "code",
   "execution_count": 224,
   "metadata": {},
   "outputs": [
    {
     "name": "stdout",
     "output_type": "stream",
     "text": [
      "tensor([0, 0, 0])\n",
      "tensor([[[[ 5.9605e-08, -1.1921e-07, -5.9605e-08],\n",
      "          [ 1.1921e-07,  1.1921e-07,  5.9605e-08],\n",
      "          [ 3.3528e-08, -1.1921e-07, -1.4901e-08]],\n",
      "\n",
      "         [[ 1.1921e-07,  4.1723e-07, -4.7684e-07],\n",
      "          [-2.3842e-07, -5.9605e-07,  4.7684e-07],\n",
      "          [ 3.5763e-07,  7.1526e-07, -1.1921e-07]],\n",
      "\n",
      "         [[ 0.0000e+00,  1.1921e-07, -1.6391e-07],\n",
      "          [ 3.5763e-07,  5.9605e-07, -1.7136e-07],\n",
      "          [ 5.9605e-08,  2.1979e-07, -4.7684e-07]]],\n",
      "\n",
      "\n",
      "        [[[ 2.3842e-07, -3.8743e-07,  5.9605e-08],\n",
      "          [ 0.0000e+00,  1.1921e-07, -2.3842e-07],\n",
      "          [ 0.0000e+00,  9.5367e-07, -1.4901e-08]],\n",
      "\n",
      "         [[-5.9605e-07, -1.1921e-07,  3.5763e-07],\n",
      "          [-2.9802e-07,  4.7684e-07, -2.3842e-07],\n",
      "          [-9.5367e-07, -2.9802e-07,  5.9605e-07]],\n",
      "\n",
      "         [[-1.4901e-07, -3.5763e-07, -2.2352e-08],\n",
      "          [-2.9802e-08,  1.6391e-07, -2.3842e-07],\n",
      "          [-4.7684e-07,  2.3842e-07, -1.7881e-07]]],\n",
      "\n",
      "\n",
      "        [[[ 1.4901e-07, -1.1921e-07, -2.3842e-07],\n",
      "          [ 0.0000e+00, -5.9605e-08,  0.0000e+00],\n",
      "          [-1.1921e-07,  2.9802e-07,  1.4901e-07]],\n",
      "\n",
      "         [[ 2.3842e-07,  2.3842e-07,  5.9605e-08],\n",
      "          [ 1.7881e-07, -2.3842e-07,  1.1921e-07],\n",
      "          [ 5.9605e-08,  0.0000e+00, -3.3528e-08]],\n",
      "\n",
      "         [[ 5.9605e-08,  4.4703e-07, -5.3644e-07],\n",
      "          [-3.5763e-07,  2.0862e-07, -4.7684e-07],\n",
      "          [-5.9605e-07,  2.6822e-07, -9.5367e-07]]]])\n"
     ]
    }
   ],
   "source": [
    "t = torch.randint(0, 1, (3,)).long()\n",
    "print(t)\n",
    "c=torch.randn(3,3,3,3)\n",
    "\n",
    "z=svd_batch_accmulate(c,t)\n",
    "\n",
    "\n",
    "print(z-c)"
   ]
  }
 ],
 "metadata": {
  "kernelspec": {
   "display_name": "Python 3",
   "language": "python",
   "name": "python3"
  },
  "language_info": {
   "codemirror_mode": {
    "name": "ipython",
    "version": 3
   },
   "file_extension": ".py",
   "mimetype": "text/x-python",
   "name": "python",
   "nbconvert_exporter": "python",
   "pygments_lexer": "ipython3",
   "version": "3.8.20"
  }
 },
 "nbformat": 4,
 "nbformat_minor": 2
}
